{
 "cells": [
  {
   "cell_type": "code",
   "execution_count": null,
   "id": "b13519bc-5a1c-45b3-ac56-06821c7a8446",
   "metadata": {},
   "outputs": [],
   "source": [
    "#1. Find the val%e of T(2) for the rec%rrence relation T(n) = 3T(n-1) + 12n, given that T(0)=5."
   ]
  },
  {
   "cell_type": "code",
   "execution_count": 1,
   "id": "411cebe8-8aa7-42d3-9b00-fb1021c1d778",
   "metadata": {
    "tags": []
   },
   "outputs": [],
   "source": [
    "#1.Find value of T(2) for recurrence relation T(n)=3T(n-1)+12n,given that T(0)=5"
   ]
  },
  {
   "cell_type": "code",
   "execution_count": null,
   "id": "ace53ff1-d071-4785-a347-890e1c282423",
   "metadata": {},
   "outputs": [],
   "source": [
    "T(n)=3T(n-1)+12n\n",
    "with initial condition T(0)=5\n",
    "Now,lets find value of T(2):\n",
    "    T(0)=5\n",
    "    T(1)=3T(0)+12(1)-3*5+12=15+12=27\n",
    "    T(2)=3T(1)+12(2)-3*27+12*2=81+24=105\n",
    "Therefore,value of T(2) IS 105    "
   ]
  },
  {
   "cell_type": "code",
   "execution_count": null,
   "id": "ccdb2e46-3dbb-46ab-9cde-f187c910037c",
   "metadata": {},
   "outputs": [],
   "source": [
    "#2 Given a rec%rrence relation, solve it using the substitution method:\n",
    "a. T(n) = T(n-1) + c"
   ]
  },
  {
   "cell_type": "code",
   "execution_count": null,
   "id": "b2870e78-a874-4cd3-b233-7ea2b68ce9e2",
   "metadata": {},
   "outputs": [],
   "source": [
    "Now ,we substitute T(n-1) in terms of T(n-2) until we reach base case\n",
    "T(n)=T(n-1)+c\n",
    "     =(T(n-2)+c)+c\n",
    "     =T(n-2)+2c\n",
    "     =T(n-3)+3c\n",
    "         .\n",
    "         .\n",
    "     =T(1)+T(n-1)c\n",
    "now,substitute T(1) in terms of T(0) using base case T(0):\n",
    "    T(1)=T(0)+c\n",
    "substitute this back into expression:\n",
    "        T(n)=T(0)+nc\n",
    "Given initial condition is T(0),lets denote it as T0:\n",
    "    T(n) =T0+nc\n",
    "So, solution to recurrence relation T(n)=T(n-1)+c is T(n) =T0+nc    \n",
    "        \n"
   ]
  },
  {
   "cell_type": "code",
   "execution_count": null,
   "id": "d55bf629-10ce-40d6-b676-18807936c2f0",
   "metadata": {},
   "outputs": [],
   "source": [
    "#b. T(n)=2T(n/2)+n"
   ]
  },
  {
   "cell_type": "code",
   "execution_count": null,
   "id": "748e5396-8127-4724-a3ca-22e3b7396e12",
   "metadata": {},
   "outputs": [],
   "source": [
    "Now,we substitute T(n/2) in terms of T(n/4) to reach base case\n",
    "T(n)=2T(n/2)+n\n",
    "    =2(2T(n/4)+n/2)+n\n",
    "    =2^2 T(n/4)+2n\n",
    "    =2^2(2T(n/8)+n/4)+2n\n",
    "    =2^3 T(n/8)+3n\n",
    "    .\n",
    "    .\n",
    "    =2^k T(n/2^k)+kn\n",
    "Find value of k such that n/2^k=1.This implies k=log2(n)\n",
    "substitute k=log2(n) back into expression:\n",
    "    T(n)=2^log2(n) T(1)+nlog2(n)\n",
    "since 2^log2(n)=n, we simplify further:\n",
    "    T(n)=n.T(1)+nlog2(n)\n",
    "now substitute T(1) using base case T(1):\n",
    "    T(n)=n.T(1)+nlog2(n)\n",
    "given initial condition T(1),lets denote it as T1:\n",
    "    T(n)=n.T1+nlog2(n)\n",
    "so,solution to recurrence relation T(n)=2T(n/2)+n is T(n) =n.T1+nlog2(n)    \n",
    "    \n"
   ]
  },
  {
   "cell_type": "code",
   "execution_count": null,
   "id": "3c4f10b2-a89c-44c4-b62a-1b031d7fbde4",
   "metadata": {},
   "outputs": [],
   "source": [
    "#c.T(n)=2T(n/2)+c"
   ]
  },
  {
   "cell_type": "code",
   "execution_count": null,
   "id": "24054f1f-3a29-420f-a5e3-4e0310810c5c",
   "metadata": {
    "tags": []
   },
   "outputs": [],
   "source": [
    "We substitute T(n/2) in terms of T(n/4) to reach base case\n",
    "T(n)=2T(n/2)+c\n",
    "    =2(2T(n/4)+c)+c\n",
    "    =2^2 T(n/4)+3c\n",
    "    =2^2(2T(n/8)+c)+3c\n",
    "    =2^3 T(n/8)+7c\n",
    "    .\n",
    "    .\n",
    "    =2^k T(n/2^k)+((2^k)-1)c\n",
    "now find value of k such that n/2^k=1.This implies substitute k=log2(n) back to expression:\n",
    "    T(n)=2^(log2(n))T(1)+[2^(log2(n))-1]c\n",
    "since 2^log2(n)=n,we simplify:\n",
    "    T(n)=n.T(1)+(n-1)c\n",
    "npw we substitute T(1) using base case T(1):\n",
    "    T(n)=n.T(1)+(n-1)c\n",
    "given initial condition T(1),lets denote it as T1:\n",
    "    T(n)=n.T1+(n-1)c\n",
    "so,solution to recurrence relation T(n)=2T(n/2)+c is T(n)=n.T1+(n-1)c     "
   ]
  },
  {
   "cell_type": "code",
   "execution_count": null,
   "id": "f2637ca7-bb5f-409a-9d73-c4df624696d1",
   "metadata": {},
   "outputs": [],
   "source": [
    "#d.T(n)=T(n/2)+c"
   ]
  },
  {
   "cell_type": "code",
   "execution_count": null,
   "id": "18dddc15-0008-4270-9eca-f7bfc4daa0a7",
   "metadata": {},
   "outputs": [],
   "source": [
    "we substitute T(n/2) in terms of T(n/4) so to reach base case\n",
    "T(n)=T(n/2)+c\n",
    "    =T(n/4)+c+c\n",
    "    =T(n/8)+c+c+c\n",
    "    .\n",
    "    .\n",
    "    =T(1)+k.c\n",
    "here k is number of divisions needed to reach base case T(1)and k=log2(n)\n",
    "now substitute k =log2(n) back into expression:\n",
    "    T(n)=T(1)+log2(n).c\n",
    "given initial condition is T(1),lets denote it as T1:\n",
    "    T(n)=T1+log2(n).c\n",
    "so, solution to recurrence relation T(n)=T(n/2)+c is T(n)=T1+log2(n).c    "
   ]
  },
  {
   "cell_type": "code",
   "execution_count": null,
   "id": "e0c2ca4d-b310-4959-9a66-8ef7c37ea23f",
   "metadata": {},
   "outputs": [],
   "source": [
    "#3.solve using recursive tree approach\n",
    "a.T(n)=2T(n-1)+1"
   ]
  },
  {
   "cell_type": "code",
   "execution_count": null,
   "id": "223b7dbe-6961-4749-93a0-c427722f6ea9",
   "metadata": {},
   "outputs": [],
   "source": [
    "lets build a tree to represent recursive calls\n",
    "T(n)=2T(n-1)+1\n",
    "each level of tree represent recursive call and we keep expanding until we reach base case. The base case occurs when n-1 and T(1) is constant.\n",
    "lets analyse the tree:\n",
    "1.the first level has 2T(n-1)+1\n",
    "2.the second level has 2[2T(n-2)+1]+1\n",
    "3.the third level has 2[2[2T(n-3)+1]+1]+1\n",
    "4.....\n",
    "the pattern is 2^k multiplied bt term T(n-k) for lth level and we stop when n-k=1\n",
    "now lets find k such that n-k=1 i.e. k=n-1\n",
    "substitute k=n-1 back into expression:\n",
    "    T(n)=2^(n-1) T(1)+2^(n-1)-1\n",
    "now lets simplify:\n",
    "     T(n)=2^(n-1) T(1)+2^(n-1)-1\n",
    "given that T(1) is constant lets denote it as T1:\n",
    "    T(n)=2^(n-1) T1+2^(n-1)-1\n",
    "so solution to recurrence relation T(n)=2T(n-1)+1 using recursive tree approach is T(n)=2^(n-1) T1+2^(n-1)-1    "
   ]
  },
  {
   "cell_type": "code",
   "execution_count": null,
   "id": "716fb224-2ec3-4ffe-814c-1120f383a180",
   "metadata": {},
   "outputs": [],
   "source": [
    "#b.T(n)=2T(n/2)+n"
   ]
  },
  {
   "cell_type": "code",
   "execution_count": null,
   "id": "cdccf630-33a0-4e2c-968c-d9dbd99508f2",
   "metadata": {},
   "outputs": [],
   "source": [
    "lets build a tree to represent recursive calls\n",
    "T(n)=2T(n-1)+n\n",
    "each level of tree represent recursive call and we keep expanding until we reach base case.Base case occurs when n becomes small enough that we can directly compute \n",
    "T(1)\n",
    "lets analyse the tree\n",
    "1.the first level has 2T(n/2)+n\n",
    "2.the second level has 2[2T(n/4)+n/2]+n\n",
    "3.the third level has 2[2[2T(n/8)+n/4]+n/2]+n\n",
    "4....\n",
    " pattern is 2^k multiplied by term T(n/2^k) forkth level and we stop when n/2^k=1\n",
    "now lets find k such that n/2^k=1 i.e. k=log2(n)\n",
    "substitute k=log2(n) back into expression:\n",
    "    T(n)=2^log2(n) T(1)+nlog2(n)\n",
    "since 2^log2(n)=n,we simplify further:\n",
    "    T(n)=n.T(1)+n.log2(n)\n",
    "now substitute T(1) using base case T(1):\n",
    "    T(n)=n.T(1)+nlog2(n)\n",
    "given initial condition is T(1),lets denote it as T1:\n",
    "    T(n)=n.T1+nlog2(n)\n",
    "so solution to recurrence relation T(n)=2T(n/2)+n using recursive tree approach is T(n)=n.T1+nlog2(n)    \n",
    "    "
   ]
  }
 ],
 "metadata": {
  "kernelspec": {
   "display_name": "Python 3 (ipykernel)",
   "language": "python",
   "name": "python3"
  },
  "language_info": {
   "codemirror_mode": {
    "name": "ipython",
    "version": 3
   },
   "file_extension": ".py",
   "mimetype": "text/x-python",
   "name": "python",
   "nbconvert_exporter": "python",
   "pygments_lexer": "ipython3",
   "version": "3.11.5"
  }
 },
 "nbformat": 4,
 "nbformat_minor": 5
}
